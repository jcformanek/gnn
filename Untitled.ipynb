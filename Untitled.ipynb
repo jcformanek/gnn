{
 "cells": [
  {
   "cell_type": "code",
   "execution_count": 1,
   "metadata": {},
   "outputs": [
    {
     "name": "stderr",
     "output_type": "stream",
     "text": [
      "Using backend: pytorch\n"
     ]
    }
   ],
   "source": [
    "import mol"
   ]
  },
  {
   "cell_type": "code",
   "execution_count": 2,
   "metadata": {},
   "outputs": [
    {
     "name": "stderr",
     "output_type": "stream",
     "text": [
      "  0%|          | 2/1029 [00:00<00:59, 17.26it/s]"
     ]
    },
    {
     "name": "stdout",
     "output_type": "stream",
     "text": [
      "=====Epoch 1=====\n",
      "Training...\n"
     ]
    },
    {
     "name": "stderr",
     "output_type": "stream",
     "text": [
      "100%|██████████| 1029/1029 [00:55<00:00, 18.52it/s]\n",
      "  1%|          | 9/1029 [00:00<00:11, 86.87it/s]"
     ]
    },
    {
     "name": "stdout",
     "output_type": "stream",
     "text": [
      "Evaluating...\n"
     ]
    },
    {
     "name": "stderr",
     "output_type": "stream",
     "text": [
      "100%|██████████| 1029/1029 [00:12<00:00, 85.07it/s]\n",
      "100%|██████████| 129/129 [00:02<00:00, 58.87it/s]\n",
      "100%|██████████| 129/129 [00:01<00:00, 74.99it/s]\n",
      "  0%|          | 2/1029 [00:00<01:03, 16.24it/s]"
     ]
    },
    {
     "name": "stdout",
     "output_type": "stream",
     "text": [
      "{'Train': {'rocauc': 0.5451870412419372}, 'Validation': {'rocauc': 0.5053660224377817}, 'Test': {'rocauc': 0.47956121207439306}}\n",
      "=====Epoch 2=====\n",
      "Training...\n"
     ]
    },
    {
     "name": "stderr",
     "output_type": "stream",
     "text": [
      "100%|██████████| 1029/1029 [00:57<00:00, 17.74it/s]\n",
      "  1%|          | 9/1029 [00:00<00:11, 85.73it/s]"
     ]
    },
    {
     "name": "stdout",
     "output_type": "stream",
     "text": [
      "Evaluating...\n"
     ]
    },
    {
     "name": "stderr",
     "output_type": "stream",
     "text": [
      "100%|██████████| 1029/1029 [00:13<00:00, 78.58it/s]\n",
      "100%|██████████| 129/129 [00:01<00:00, 69.10it/s]\n",
      "100%|██████████| 129/129 [00:01<00:00, 78.16it/s]\n",
      "  0%|          | 2/1029 [00:00<01:05, 15.75it/s]"
     ]
    },
    {
     "name": "stdout",
     "output_type": "stream",
     "text": [
      "{'Train': {'rocauc': 0.6062716294725515}, 'Validation': {'rocauc': 0.5896317117381932}, 'Test': {'rocauc': 0.5634185673728732}}\n",
      "=====Epoch 3=====\n",
      "Training...\n"
     ]
    },
    {
     "name": "stderr",
     "output_type": "stream",
     "text": [
      "100%|██████████| 1029/1029 [00:59<00:00, 17.31it/s]\n",
      "  0%|          | 5/1029 [00:00<00:22, 44.65it/s]"
     ]
    },
    {
     "name": "stdout",
     "output_type": "stream",
     "text": [
      "Evaluating...\n"
     ]
    },
    {
     "name": "stderr",
     "output_type": "stream",
     "text": [
      "100%|██████████| 1029/1029 [00:12<00:00, 81.12it/s]\n",
      "100%|██████████| 129/129 [00:01<00:00, 83.22it/s]\n",
      "100%|██████████| 129/129 [00:01<00:00, 83.87it/s]\n",
      "  0%|          | 2/1029 [00:00<01:01, 16.66it/s]"
     ]
    },
    {
     "name": "stdout",
     "output_type": "stream",
     "text": [
      "{'Train': {'rocauc': 0.6172352654055977}, 'Validation': {'rocauc': 0.6027091906721537}, 'Test': {'rocauc': 0.5748054230479538}}\n",
      "=====Epoch 4=====\n",
      "Training...\n"
     ]
    },
    {
     "name": "stderr",
     "output_type": "stream",
     "text": [
      "100%|██████████| 1029/1029 [00:59<00:00, 17.35it/s]\n",
      "  1%|          | 9/1029 [00:00<00:12, 83.93it/s]"
     ]
    },
    {
     "name": "stdout",
     "output_type": "stream",
     "text": [
      "Evaluating...\n"
     ]
    },
    {
     "name": "stderr",
     "output_type": "stream",
     "text": [
      "100%|██████████| 1029/1029 [00:12<00:00, 83.96it/s]\n",
      "100%|██████████| 129/129 [00:01<00:00, 80.72it/s]\n",
      "100%|██████████| 129/129 [00:01<00:00, 83.96it/s]\n",
      "  0%|          | 2/1029 [00:00<01:00, 17.02it/s]"
     ]
    },
    {
     "name": "stdout",
     "output_type": "stream",
     "text": [
      "{'Train': {'rocauc': 0.6515877965383001}, 'Validation': {'rocauc': 0.6847779492455419}, 'Test': {'rocauc': 0.6250294520944785}}\n",
      "=====Epoch 5=====\n",
      "Training...\n"
     ]
    },
    {
     "name": "stderr",
     "output_type": "stream",
     "text": [
      "100%|██████████| 1029/1029 [00:57<00:00, 17.81it/s]\n",
      "  1%|          | 9/1029 [00:00<00:11, 87.65it/s]"
     ]
    },
    {
     "name": "stdout",
     "output_type": "stream",
     "text": [
      "Evaluating...\n"
     ]
    },
    {
     "name": "stderr",
     "output_type": "stream",
     "text": [
      "100%|██████████| 1029/1029 [00:12<00:00, 84.21it/s]\n",
      "100%|██████████| 129/129 [00:01<00:00, 81.65it/s]\n",
      "100%|██████████| 129/129 [00:01<00:00, 84.35it/s]\n",
      "  0%|          | 2/1029 [00:00<00:58, 17.59it/s]"
     ]
    },
    {
     "name": "stdout",
     "output_type": "stream",
     "text": [
      "{'Train': {'rocauc': 0.6441619851934355}, 'Validation': {'rocauc': 0.6478955393885949}, 'Test': {'rocauc': 0.6188995538731918}}\n",
      "=====Epoch 6=====\n",
      "Training...\n"
     ]
    },
    {
     "name": "stderr",
     "output_type": "stream",
     "text": [
      "100%|██████████| 1029/1029 [00:58<00:00, 17.67it/s]\n",
      "  1%|          | 7/1029 [00:00<00:16, 62.07it/s]"
     ]
    },
    {
     "name": "stdout",
     "output_type": "stream",
     "text": [
      "Evaluating...\n"
     ]
    },
    {
     "name": "stderr",
     "output_type": "stream",
     "text": [
      "100%|██████████| 1029/1029 [00:13<00:00, 78.93it/s]\n",
      "100%|██████████| 129/129 [00:01<00:00, 82.18it/s]\n",
      "100%|██████████| 129/129 [00:01<00:00, 83.27it/s]\n",
      "  0%|          | 2/1029 [00:00<01:02, 16.54it/s]"
     ]
    },
    {
     "name": "stdout",
     "output_type": "stream",
     "text": [
      "{'Train': {'rocauc': 0.7049026522515977}, 'Validation': {'rocauc': 0.7402554257299627}, 'Test': {'rocauc': 0.7143214430560653}}\n",
      "=====Epoch 7=====\n",
      "Training...\n"
     ]
    },
    {
     "name": "stderr",
     "output_type": "stream",
     "text": [
      "100%|██████████| 1029/1029 [00:58<00:00, 17.74it/s]\n",
      "  1%|          | 9/1029 [00:00<00:12, 84.72it/s]"
     ]
    },
    {
     "name": "stdout",
     "output_type": "stream",
     "text": [
      "Evaluating...\n"
     ]
    },
    {
     "name": "stderr",
     "output_type": "stream",
     "text": [
      "100%|██████████| 1029/1029 [00:12<00:00, 83.50it/s]\n",
      "100%|██████████| 129/129 [00:01<00:00, 82.69it/s]\n",
      "100%|██████████| 129/129 [00:01<00:00, 84.46it/s]\n",
      "  0%|          | 2/1029 [00:00<00:59, 17.16it/s]"
     ]
    },
    {
     "name": "stdout",
     "output_type": "stream",
     "text": [
      "{'Train': {'rocauc': 0.7025616507888208}, 'Validation': {'rocauc': 0.7344622648442094}, 'Test': {'rocauc': 0.7071071283725061}}\n",
      "=====Epoch 8=====\n",
      "Training...\n"
     ]
    },
    {
     "name": "stderr",
     "output_type": "stream",
     "text": [
      "100%|██████████| 1029/1029 [00:57<00:00, 17.76it/s]\n",
      "  1%|          | 9/1029 [00:00<00:12, 83.25it/s]"
     ]
    },
    {
     "name": "stdout",
     "output_type": "stream",
     "text": [
      "Evaluating...\n"
     ]
    },
    {
     "name": "stderr",
     "output_type": "stream",
     "text": [
      "100%|██████████| 1029/1029 [00:12<00:00, 84.02it/s]\n",
      "100%|██████████| 129/129 [00:01<00:00, 81.95it/s]\n",
      "100%|██████████| 129/129 [00:01<00:00, 84.41it/s]\n",
      "  0%|          | 2/1029 [00:00<00:59, 17.16it/s]"
     ]
    },
    {
     "name": "stdout",
     "output_type": "stream",
     "text": [
      "{'Train': {'rocauc': 0.7140081757817162}, 'Validation': {'rocauc': 0.7459276406035664}, 'Test': {'rocauc': 0.7130294134687808}}\n",
      "=====Epoch 9=====\n",
      "Training...\n"
     ]
    },
    {
     "name": "stderr",
     "output_type": "stream",
     "text": [
      "100%|██████████| 1029/1029 [00:59<00:00, 17.25it/s]\n",
      "  1%|          | 9/1029 [00:00<00:11, 86.04it/s]"
     ]
    },
    {
     "name": "stdout",
     "output_type": "stream",
     "text": [
      "Evaluating...\n"
     ]
    },
    {
     "name": "stderr",
     "output_type": "stream",
     "text": [
      "100%|██████████| 1029/1029 [00:12<00:00, 83.49it/s]\n",
      "100%|██████████| 129/129 [00:01<00:00, 83.66it/s]\n",
      "100%|██████████| 129/129 [00:01<00:00, 82.96it/s]\n",
      "  0%|          | 2/1029 [00:00<01:04, 15.95it/s]"
     ]
    },
    {
     "name": "stdout",
     "output_type": "stream",
     "text": [
      "{'Train': {'rocauc': 0.7148249901681886}, 'Validation': {'rocauc': 0.7311752890456593}, 'Test': {'rocauc': 0.7030475675466888}}\n",
      "=====Epoch 10=====\n",
      "Training...\n"
     ]
    },
    {
     "name": "stderr",
     "output_type": "stream",
     "text": [
      "100%|██████████| 1029/1029 [01:08<00:00, 15.10it/s]\n",
      "  1%|          | 8/1029 [00:00<00:12, 79.69it/s]"
     ]
    },
    {
     "name": "stdout",
     "output_type": "stream",
     "text": [
      "Evaluating...\n"
     ]
    },
    {
     "name": "stderr",
     "output_type": "stream",
     "text": [
      "100%|██████████| 1029/1029 [00:12<00:00, 82.52it/s]\n",
      "100%|██████████| 129/129 [00:01<00:00, 81.83it/s]\n",
      "100%|██████████| 129/129 [00:01<00:00, 84.31it/s]"
     ]
    },
    {
     "name": "stdout",
     "output_type": "stream",
     "text": [
      "{'Train': {'rocauc': 0.7154333270931916}, 'Validation': {'rocauc': 0.7221165858318636}, 'Test': {'rocauc': 0.6920991135402383}}\n",
      "\n",
      "Finished training!\n",
      "Best validation score: 0.7459276406035664\n",
      "Test score: 0.7130294134687808\n"
     ]
    },
    {
     "name": "stderr",
     "output_type": "stream",
     "text": [
      "\n"
     ]
    }
   ],
   "source": [
    "train, valid, test = mol.run_experiment()"
   ]
  },
  {
   "cell_type": "code",
   "execution_count": 4,
   "metadata": {},
   "outputs": [
    {
     "data": {
      "image/png": "[encoded data removed]",
      "text/plain": [
       "<Figure size 648x216 with 3 Axes>"
      ]
     },
     "metadata": {
      "needs_background": "light"
     },
     "output_type": "display_data"
    }
   ],
   "source": [
    "mol.plot_results(train, valid, test)"
   ]
  },
  {
   "cell_type": "code",
   "execution_count": null,
   "metadata": {},
   "outputs": [],
   "source": []
  }
 ],
 "metadata": {
  "kernelspec": {
   "display_name": "Python 3.6.9 64-bit ('gnn': venv)",
   "language": "python",
   "name": "python36964bitgnnvenvbff103ce1cec4f92bc8aa50298592845"
  },
  "language_info": {
   "codemirror_mode": {
    "name": "ipython",
    "version": 3
   },
   "file_extension": ".py",
   "mimetype": "text/x-python",
   "name": "python",
   "nbconvert_exporter": "python",
   "pygments_lexer": "ipython3",
   "version": "3.6.9"
  }
 },
 "nbformat": 4,
 "nbformat_minor": 2
}
