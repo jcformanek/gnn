{
 "cells": [
  {
   "cell_type": "code",
   "execution_count": 45,
   "metadata": {},
   "outputs": [],
   "source": [
    "import torch\n",
    "import torch.nn as nn\n",
    "import torch.optim as optim\n",
    "import torch.nn.functional as F\n",
    "from torch.utils.data import DataLoader, Dataset\n",
    "\n",
    "import dgl\n",
    "from dgl.nn.pytorch import GraphConv, SAGEConv\n",
    "from dgl.data.utils import save_graphs, load_graphs\n",
    "import numpy as np\n",
    "import networkx as nx\n",
    "import matplotlib.pyplot as plt"
   ]
  },
  {
   "cell_type": "code",
   "execution_count": 46,
   "metadata": {},
   "outputs": [],
   "source": [
    "def graph_eigens(graph):\n",
    "    '''\n",
    "    The input is the graph, and the output is a normalized spectrum of the graph using the functions on 'Networkx'.\n",
    "    '''\n",
    "    return nx.normalized_laplacian_spectrum(graph)\n",
    "\n",
    "def graph_spec_generator(N_lower, N_upper, num_iter):\n",
    "    '''\n",
    "    The input here is the uniform sampling bound introduced above, and the number of sampling iterations. For each iteration, we choose\n",
    "    an m and an n, the size and order, then we generate a random graph. Then we use the 'graph_eigens' to compute the spectra for this graph, and we \n",
    "    store the data in graph_spec_detail in the form '[w,z]' as mentioned above.\n",
    "    '''\n",
    "    graphs = []\n",
    "    eigens = []\n",
    "    for index in range(1,num_iter):\n",
    "        n = np.random.randint(N_lower, N_upper)\n",
    "        Mbound = n *(n-1) // 2 # complete graph\n",
    "        m = np.random.randint(1,Mbound)\n",
    "        g=nx.gnm_random_graph(n, m)\n",
    "        graphs.append(g)\n",
    "        eigens.append(max(graph_eigens(g))) # made it return only the largest eigen value\n",
    "\n",
    "    return graphs, eigens"
   ]
  },
  {
   "cell_type": "code",
   "execution_count": 93,
   "metadata": {},
   "outputs": [],
   "source": [
    "train_nx_graphs, train_eigens = graph_spec_generator(40, 50, 10000)\n",
    "test_nx_graphs, test_eigens = graph_spec_generator(40, 50, 3000)"
   ]
  },
  {
   "cell_type": "code",
   "execution_count": 94,
   "metadata": {},
   "outputs": [],
   "source": [
    "def save_to_file(g_fname, nx_g_list, eigens_list):\n",
    "    eigens = torch.tensor(eigens_list, dtype=torch.float64) # convert eigens list into tensor\n",
    "    dgl_g_list = list(map(dgl.DGLGraph, nx_g_list)) # convert to DGL graphs\n",
    "    save_graphs(g_fname, dgl_g_list, {'eigens': eigens}) # store the eigen values in the 'labels' dict."
   ]
  },
  {
   "cell_type": "code",
   "execution_count": 95,
   "metadata": {},
   "outputs": [],
   "source": [
    "save_to_file(\"train_graphs\", train_nx_graphs, train_eigens)\n",
    "save_to_file(\"test_graphs\", test_nx_graphs, test_eigens)"
   ]
  },
  {
   "cell_type": "code",
   "execution_count": 96,
   "metadata": {},
   "outputs": [],
   "source": [
    "def load_from_file(g_fname):\n",
    "    graphs, labels = load_graphs(g_fname)\n",
    "    eigens = labels['eigens']\n",
    "    return graphs, eigens"
   ]
  },
  {
   "cell_type": "code",
   "execution_count": 97,
   "metadata": {},
   "outputs": [],
   "source": [
    "train_graphs, train_eigens = load_from_file(\"train_graphs\")\n",
    "test_graphs, test_eigens = load_from_file(\"test_graphs\")"
   ]
  },
  {
   "cell_type": "code",
   "execution_count": 105,
   "metadata": {},
   "outputs": [
    {
     "name": "stdout",
     "output_type": "stream",
     "text": [
      "Length of training list: 9999\n",
      "Length of test list: 2999\n"
     ]
    }
   ],
   "source": [
    "print(\"Length of training list:\", len(train_graphs))\n",
    "print(\"Length of test list:\", len(test_graphs))"
   ]
  },
  {
   "cell_type": "code",
   "execution_count": 112,
   "metadata": {},
   "outputs": [],
   "source": [
    "class EigenDataset(Dataset):\n",
    "    def __init__(self, g_fname):\n",
    "        super().__init__()\n",
    "        self.graphs, self.eigens = load_from_file(g_fname)\n",
    "        \n",
    "    def __len__(self):\n",
    "        \n",
    "        return len(self.eigens)\n",
    "    \n",
    "    def __getitem__(self, idx):\n",
    "        \n",
    "        g = self.graphs[idx]\n",
    "        e = self.eigens[idx]\n",
    "        \n",
    "        return g, e"
   ]
  },
  {
   "cell_type": "code",
   "execution_count": 113,
   "metadata": {},
   "outputs": [
    {
     "name": "stdout",
     "output_type": "stream",
     "text": [
      "Length of training dataset: 9999\n",
      "Length of test dataset: 2999\n"
     ]
    }
   ],
   "source": [
    "train_dataset = EigenDataset(\"train_graphs\")\n",
    "test_dataset = EigenDataset(\"test_graphs\")\n",
    "\n",
    "print(\"Length of training dataset:\", len(train_dataset))\n",
    "print(\"Length of test dataset:\", len(test_dataset))"
   ]
  },
  {
   "cell_type": "code",
   "execution_count": 115,
   "metadata": {},
   "outputs": [],
   "source": [
    "def get_train_and_test_dataloader(train_fname, test_fname):\n",
    "    \n",
    "    train_dataset = EigenDataset(train_fname)\n",
    "    test_dataset = EigenDataset(test_fname)\n",
    "    \n",
    "    def collate(samples):\n",
    "        graphs, labels = map(list, zip(*samples))\n",
    "        batched_graph = dgl.batch(graphs)\n",
    "        return batched_graph, torch.tensor(labels)\n",
    "    \n",
    "    train_dataloader = DataLoader(train_dataset, batch_size=32, shuffle=True, collate_fn=collate)\n",
    "    test_dataloader = DataLoader(test_dataset, batch_size=64, shuffle=True, collate_fn=collate)\n",
    "    \n",
    "    \n",
    "    return train_dataloader, test_dataloader"
   ]
  },
  {
   "cell_type": "code",
   "execution_count": 116,
   "metadata": {},
   "outputs": [],
   "source": [
    "train_dataloader, test_dataloader = get_train_and_test_dataloader(train_dataset, test_dataset)"
   ]
  },
  {
   "cell_type": "code",
   "execution_count": 117,
   "metadata": {},
   "outputs": [],
   "source": [
    "def train(model, loss_func, optimizer, num_epochs, data_loader):\n",
    "    \n",
    "    model.train()\n",
    "    \n",
    "    epoch_losses = []\n",
    "    for epoch in range(num_epochs):\n",
    "        epoch_loss = 0\n",
    "        for i, (bg, label) in enumerate(data_loader):\n",
    "            prediction = model(bg)\n",
    "            loss = loss_func(prediction.view(-1), label)\n",
    "            optimizer.zero_grad()\n",
    "            loss.backward()\n",
    "            optimizer.step()\n",
    "            epoch_loss += loss.detach().item()\n",
    "        epoch_loss /= (i + 1)\n",
    "        print('Epoch {}, loss {:.6f}'.format(epoch, epoch_loss))\n",
    "        epoch_losses.append(epoch_loss)\n",
    "        \n",
    "    return model, epoch_losses"
   ]
  },
  {
   "cell_type": "code",
   "execution_count": 118,
   "metadata": {},
   "outputs": [],
   "source": [
    "def plot_loss_graph(losses):\n",
    "    plt.title('Epoch loss averaged over minibatches')\n",
    "    plt.plot(losses)\n",
    "    plt.show()"
   ]
  },
  {
   "cell_type": "code",
   "execution_count": 121,
   "metadata": {},
   "outputs": [],
   "source": [
    "def evaluate_model(model, test_dataloader):\n",
    "    train_loss = 0\n",
    "    for i, (bg, label) in enumerate(test_dataloader):\n",
    "        prediction = model(bg)\n",
    "        loss = loss_func(prediction.view(-1), label)\n",
    "        train_loss += loss.detach().item()\n",
    "    train_loss /= (i + 1)\n",
    "    print(\"Loss:\", train_loss)"
   ]
  },
  {
   "cell_type": "code",
   "execution_count": 119,
   "metadata": {},
   "outputs": [],
   "source": [
    "class SAGEConv_Classifier(nn.Module):\n",
    "    def __init__(self, in_dim, hidden_dim, n_classes, agr):\n",
    "        super(SAGEConv_Classifier, self).__init__()\n",
    "        self.conv1 = SAGEConv(in_dim, hidden_dim, agr)\n",
    "        self.conv2 = SAGEConv(hidden_dim, hidden_dim, agr)\n",
    "        self.classify = nn.Linear(hidden_dim, n_classes)\n",
    "        \n",
    "    def forward(self, g):\n",
    "        h = g.in_degrees().view(-1, 1).float() # # initial node feature will be the the indegree\n",
    "        h = F.relu(self.conv1(g, h))\n",
    "        h = F.relu(self.conv2(g, h))\n",
    "        g.ndata['h'] = h\n",
    "        # Calculate graph representation by averaging all the node representations.\n",
    "        hg = dgl.mean_nodes(g, 'h')\n",
    "        return self.classify(hg)"
   ]
  },
  {
   "cell_type": "code",
   "execution_count": 120,
   "metadata": {},
   "outputs": [
    {
     "name": "stdout",
     "output_type": "stream",
     "text": [
      "Data loaded!\n",
      "Length of training dataset: 1\n",
      "\n",
      "Starting Training\n",
      "Epoch 0, loss 0.027660\n",
      "Epoch 1, loss 0.000753\n",
      "Epoch 2, loss 0.002715\n",
      "Epoch 3, loss 0.001709\n",
      "Epoch 4, loss 0.001859\n",
      "Epoch 5, loss 0.001165\n",
      "Epoch 6, loss 0.002892\n",
      "Epoch 7, loss 0.003231\n",
      "Epoch 8, loss 0.001971\n",
      "Epoch 9, loss 0.001242\n"
     ]
    },
    {
     "data": {
      "image/png": "[encoded data removed]",
      "text/plain": [
       "<Figure size 432x288 with 1 Axes>"
      ]
     },
     "metadata": {
      "needs_background": "light"
     },
     "output_type": "display_data"
    }
   ],
   "source": [
    "sage_model = SAGEConv_Classifier(1, 256, 1, 'gcn')\n",
    "loss_func = nn.MSELoss()\n",
    "optimizer = optim.Adam(sage_model.parameters(), lr=0.001)\n",
    "train_dataloader, test_dataloader = get_train_and_test_dataloader(\"train_graphs\", \"test_graphs\")\n",
    "\n",
    "print(\"Data loaded!\")\n",
    "print(\"Length of training dataset:\", len(list(train_dataloader)))\n",
    "print()\n",
    "print(\"Starting Training\")\n",
    "\n",
    "sage_model, losses = train(sage_model, loss_func, optimizer, 10, train_dataloader)\n",
    "\n",
    "plot_loss_graph(losses)"
   ]
  },
  {
   "cell_type": "code",
   "execution_count": 129,
   "metadata": {},
   "outputs": [
    {
     "name": "stdout",
     "output_type": "stream",
     "text": [
      "Test mean: 1.3798833642917572\n",
      "Test var: 0.06196262675137638\n",
      "tensor(0.0011, dtype=torch.float64)\n"
     ]
    }
   ],
   "source": [
    "test_mean = np.mean(np.array(test_eigens))\n",
    "test_var = np.var(np.array(test_eigens))\n",
    "\n",
    "print(\"Test mean:\", test_mean)\n",
    "print(\"Test var:\", test_var)\n",
    "\n",
    "\n",
    "MSE = 0 \n",
    "for i in range(len(test_graphs)):\n",
    "    g = test_graphs[i]\n",
    "    SE = (test_eigens[i] - sage_model(g).item()) ** 2\n",
    "    MSE += SE\n",
    "MSE = MSE / len(test_graphs)\n",
    "print(MSE)"
   ]
  },
  {
   "cell_type": "code",
   "execution_count": 140,
   "metadata": {},
   "outputs": [
    {
     "data": {
      "text/plain": [
       "(array([108., 231., 284., 302., 289., 259., 197., 205., 164., 138.,  95.,\n",
       "        114.,  88.,  80.,  45.,  48.,  55.,  45.,  32.,  32.,  37., 151.]),\n",
       " array([1.04166667, 1.08522727, 1.12878788, 1.17234848, 1.21590909,\n",
       "        1.2594697 , 1.3030303 , 1.34659091, 1.39015152, 1.43371212,\n",
       "        1.47727273, 1.52083333, 1.56439394, 1.60795455, 1.65151515,\n",
       "        1.69507576, 1.73863636, 1.78219697, 1.82575758, 1.86931818,\n",
       "        1.91287879, 1.95643939, 2.        ]),\n",
       " <a list of 22 Patch objects>)"
      ]
     },
     "execution_count": 140,
     "metadata": {},
     "output_type": "execute_result"
    },
    {
     "data": {
      "image/png": "[encoded data removed]",
      "text/plain": [
       "<Figure size 432x288 with 1 Axes>"
      ]
     },
     "metadata": {
      "needs_background": "light"
     },
     "output_type": "display_data"
    }
   ],
   "source": [
    "plt.hist(test_eigens, bins='auto')"
   ]
  },
  {
   "cell_type": "code",
   "execution_count": 145,
   "metadata": {},
   "outputs": [
    {
     "name": "stdout",
     "output_type": "stream",
     "text": [
      "tensor(1.9062, dtype=torch.float64)\n",
      "1.9161728620529175\n",
      "\n",
      "tensor(1.1942, dtype=torch.float64)\n",
      "1.1416680812835693\n",
      "\n",
      "tensor(1.0986, dtype=torch.float64)\n",
      "1.0649200677871704\n",
      "\n",
      "tensor(1.1439, dtype=torch.float64)\n",
      "1.0875033140182495\n",
      "\n",
      "tensor(1.0846, dtype=torch.float64)\n",
      "1.0392508506774902\n",
      "\n",
      "tensor(1.3654, dtype=torch.float64)\n",
      "1.3460112810134888\n",
      "\n",
      "tensor(1.3730, dtype=torch.float64)\n",
      "1.3669610023498535\n",
      "\n",
      "tensor(1.4909, dtype=torch.float64)\n",
      "1.533289909362793\n",
      "\n",
      "tensor(1.7754, dtype=torch.float64)\n",
      "1.8024663925170898\n",
      "\n",
      "tensor(1.5213, dtype=torch.float64)\n",
      "1.521324634552002\n",
      "\n"
     ]
    }
   ],
   "source": [
    "np.sqrt(MSE)\n",
    "for i in range(10):\n",
    "    print(test_eigens[i])\n",
    "    g = test_graphs[i]\n",
    "    print(sage_model(g).item())\n",
    "    print()"
   ]
  },
  {
   "cell_type": "code",
   "execution_count": 137,
   "metadata": {},
   "outputs": [],
   "source": [
    "class GraphConv_Model(nn.Module):\n",
    "    def __init__(self, in_dim, hidden_dim, n_classes):\n",
    "        super(GraphConv_Model, self).__init__()\n",
    "        self.conv1 = GraphConv(in_dim, hidden_dim)\n",
    "        self.conv2 = GraphConv(hidden_dim, hidden_dim)\n",
    "        self.conv3 = GraphConv(hidden_dim, hidden_dim)\n",
    "        self.classify = nn.Linear(hidden_dim, n_classes)\n",
    "        \n",
    "    def forward(self, g):\n",
    "        h = g.in_degrees().view(-1, 1).float() # # initial node feature will be the the indegree\n",
    "        h = F.relu(self.conv1(g, h))\n",
    "        h = F.relu(self.conv2(g, h))\n",
    "        h = F.relu(self.conv3(g, h))\n",
    "        g.ndata['h'] = h\n",
    "        # Calculate graph representation by averaging all the node representations.\n",
    "        hg = dgl.mean_nodes(g, 'h')\n",
    "        return self.classify(hg)"
   ]
  },
  {
   "cell_type": "code",
   "execution_count": 139,
   "metadata": {},
   "outputs": [
    {
     "name": "stdout",
     "output_type": "stream",
     "text": [
      "Data loaded!\n",
      "Length of training dataset:\n",
      "\n",
      "Starting Training\n"
     ]
    },
    {
     "ename": "ValueError",
     "evalue": "not enough values to unpack (expected 2, got 1)",
     "output_type": "error",
     "traceback": [
      "\u001b[0;31m---------------------------------------------------------------------------\u001b[0m",
      "\u001b[0;31mValueError\u001b[0m                                Traceback (most recent call last)",
      "\u001b[0;32m<ipython-input-139-9ee90e58a149>\u001b[0m in \u001b[0;36m<module>\u001b[0;34m\u001b[0m\n\u001b[1;32m      9\u001b[0m \u001b[0mprint\u001b[0m\u001b[0;34m(\u001b[0m\u001b[0;34m\"Starting Training\"\u001b[0m\u001b[0;34m)\u001b[0m\u001b[0;34m\u001b[0m\u001b[0;34m\u001b[0m\u001b[0m\n\u001b[1;32m     10\u001b[0m \u001b[0;34m\u001b[0m\u001b[0m\n\u001b[0;32m---> 11\u001b[0;31m \u001b[0mconv_model\u001b[0m\u001b[0;34m,\u001b[0m \u001b[0mlosses\u001b[0m \u001b[0;34m=\u001b[0m \u001b[0mtrain\u001b[0m\u001b[0;34m(\u001b[0m\u001b[0mconv_model\u001b[0m\u001b[0;34m,\u001b[0m \u001b[0mloss_func\u001b[0m\u001b[0;34m,\u001b[0m \u001b[0moptimizer\u001b[0m\u001b[0;34m,\u001b[0m \u001b[0;36m1\u001b[0m\u001b[0;34m,\u001b[0m \u001b[0mtrain_dataloader\u001b[0m\u001b[0;34m)\u001b[0m\u001b[0;34m\u001b[0m\u001b[0;34m\u001b[0m\u001b[0m\n\u001b[0m\u001b[1;32m     12\u001b[0m \u001b[0;34m\u001b[0m\u001b[0m\n\u001b[1;32m     13\u001b[0m \u001b[0mplot_loss_graph\u001b[0m\u001b[0;34m(\u001b[0m\u001b[0mlosses\u001b[0m\u001b[0;34m)\u001b[0m\u001b[0;34m\u001b[0m\u001b[0;34m\u001b[0m\u001b[0m\n",
      "\u001b[0;32m<ipython-input-117-2875f358474a>\u001b[0m in \u001b[0;36mtrain\u001b[0;34m(model, loss_func, optimizer, num_epochs, data_loader)\u001b[0m\n\u001b[1;32m      6\u001b[0m     \u001b[0;32mfor\u001b[0m \u001b[0mepoch\u001b[0m \u001b[0;32min\u001b[0m \u001b[0mrange\u001b[0m\u001b[0;34m(\u001b[0m\u001b[0mnum_epochs\u001b[0m\u001b[0;34m)\u001b[0m\u001b[0;34m:\u001b[0m\u001b[0;34m\u001b[0m\u001b[0;34m\u001b[0m\u001b[0m\n\u001b[1;32m      7\u001b[0m         \u001b[0mepoch_loss\u001b[0m \u001b[0;34m=\u001b[0m \u001b[0;36m0\u001b[0m\u001b[0;34m\u001b[0m\u001b[0;34m\u001b[0m\u001b[0m\n\u001b[0;32m----> 8\u001b[0;31m         \u001b[0;32mfor\u001b[0m \u001b[0mi\u001b[0m\u001b[0;34m,\u001b[0m \u001b[0;34m(\u001b[0m\u001b[0mbg\u001b[0m\u001b[0;34m,\u001b[0m \u001b[0mlabel\u001b[0m\u001b[0;34m)\u001b[0m \u001b[0;32min\u001b[0m \u001b[0menumerate\u001b[0m\u001b[0;34m(\u001b[0m\u001b[0mdata_loader\u001b[0m\u001b[0;34m)\u001b[0m\u001b[0;34m:\u001b[0m\u001b[0;34m\u001b[0m\u001b[0;34m\u001b[0m\u001b[0m\n\u001b[0m\u001b[1;32m      9\u001b[0m             \u001b[0mprediction\u001b[0m \u001b[0;34m=\u001b[0m \u001b[0mmodel\u001b[0m\u001b[0;34m(\u001b[0m\u001b[0mbg\u001b[0m\u001b[0;34m)\u001b[0m\u001b[0;34m\u001b[0m\u001b[0;34m\u001b[0m\u001b[0m\n\u001b[1;32m     10\u001b[0m             \u001b[0mloss\u001b[0m \u001b[0;34m=\u001b[0m \u001b[0mloss_func\u001b[0m\u001b[0;34m(\u001b[0m\u001b[0mprediction\u001b[0m\u001b[0;34m.\u001b[0m\u001b[0mview\u001b[0m\u001b[0;34m(\u001b[0m\u001b[0;34m-\u001b[0m\u001b[0;36m1\u001b[0m\u001b[0;34m)\u001b[0m\u001b[0;34m,\u001b[0m \u001b[0mlabel\u001b[0m\u001b[0;34m)\u001b[0m\u001b[0;34m\u001b[0m\u001b[0;34m\u001b[0m\u001b[0m\n",
      "\u001b[0;32m~/.virtualenvs/gnn/lib/python3.6/site-packages/torch/utils/data/dataloader.py\u001b[0m in \u001b[0;36m__next__\u001b[0;34m(self)\u001b[0m\n\u001b[1;32m    343\u001b[0m \u001b[0;34m\u001b[0m\u001b[0m\n\u001b[1;32m    344\u001b[0m     \u001b[0;32mdef\u001b[0m \u001b[0m__next__\u001b[0m\u001b[0;34m(\u001b[0m\u001b[0mself\u001b[0m\u001b[0;34m)\u001b[0m\u001b[0;34m:\u001b[0m\u001b[0;34m\u001b[0m\u001b[0;34m\u001b[0m\u001b[0m\n\u001b[0;32m--> 345\u001b[0;31m         \u001b[0mdata\u001b[0m \u001b[0;34m=\u001b[0m \u001b[0mself\u001b[0m\u001b[0;34m.\u001b[0m\u001b[0m_next_data\u001b[0m\u001b[0;34m(\u001b[0m\u001b[0;34m)\u001b[0m\u001b[0;34m\u001b[0m\u001b[0;34m\u001b[0m\u001b[0m\n\u001b[0m\u001b[1;32m    346\u001b[0m         \u001b[0mself\u001b[0m\u001b[0;34m.\u001b[0m\u001b[0m_num_yielded\u001b[0m \u001b[0;34m+=\u001b[0m \u001b[0;36m1\u001b[0m\u001b[0;34m\u001b[0m\u001b[0;34m\u001b[0m\u001b[0m\n\u001b[1;32m    347\u001b[0m         \u001b[0;32mif\u001b[0m \u001b[0mself\u001b[0m\u001b[0;34m.\u001b[0m\u001b[0m_dataset_kind\u001b[0m \u001b[0;34m==\u001b[0m \u001b[0m_DatasetKind\u001b[0m\u001b[0;34m.\u001b[0m\u001b[0mIterable\u001b[0m \u001b[0;32mand\u001b[0m\u001b[0;31m \u001b[0m\u001b[0;31m\\\u001b[0m\u001b[0;34m\u001b[0m\u001b[0;34m\u001b[0m\u001b[0m\n",
      "\u001b[0;32m~/.virtualenvs/gnn/lib/python3.6/site-packages/torch/utils/data/dataloader.py\u001b[0m in \u001b[0;36m_next_data\u001b[0;34m(self)\u001b[0m\n\u001b[1;32m    383\u001b[0m     \u001b[0;32mdef\u001b[0m \u001b[0m_next_data\u001b[0m\u001b[0;34m(\u001b[0m\u001b[0mself\u001b[0m\u001b[0;34m)\u001b[0m\u001b[0;34m:\u001b[0m\u001b[0;34m\u001b[0m\u001b[0;34m\u001b[0m\u001b[0m\n\u001b[1;32m    384\u001b[0m         \u001b[0mindex\u001b[0m \u001b[0;34m=\u001b[0m \u001b[0mself\u001b[0m\u001b[0;34m.\u001b[0m\u001b[0m_next_index\u001b[0m\u001b[0;34m(\u001b[0m\u001b[0;34m)\u001b[0m  \u001b[0;31m# may raise StopIteration\u001b[0m\u001b[0;34m\u001b[0m\u001b[0;34m\u001b[0m\u001b[0m\n\u001b[0;32m--> 385\u001b[0;31m         \u001b[0mdata\u001b[0m \u001b[0;34m=\u001b[0m \u001b[0mself\u001b[0m\u001b[0;34m.\u001b[0m\u001b[0m_dataset_fetcher\u001b[0m\u001b[0;34m.\u001b[0m\u001b[0mfetch\u001b[0m\u001b[0;34m(\u001b[0m\u001b[0mindex\u001b[0m\u001b[0;34m)\u001b[0m  \u001b[0;31m# may raise StopIteration\u001b[0m\u001b[0;34m\u001b[0m\u001b[0;34m\u001b[0m\u001b[0m\n\u001b[0m\u001b[1;32m    386\u001b[0m         \u001b[0;32mif\u001b[0m \u001b[0mself\u001b[0m\u001b[0;34m.\u001b[0m\u001b[0m_pin_memory\u001b[0m\u001b[0;34m:\u001b[0m\u001b[0;34m\u001b[0m\u001b[0;34m\u001b[0m\u001b[0m\n\u001b[1;32m    387\u001b[0m             \u001b[0mdata\u001b[0m \u001b[0;34m=\u001b[0m \u001b[0m_utils\u001b[0m\u001b[0;34m.\u001b[0m\u001b[0mpin_memory\u001b[0m\u001b[0;34m.\u001b[0m\u001b[0mpin_memory\u001b[0m\u001b[0;34m(\u001b[0m\u001b[0mdata\u001b[0m\u001b[0;34m)\u001b[0m\u001b[0;34m\u001b[0m\u001b[0;34m\u001b[0m\u001b[0m\n",
      "\u001b[0;32m~/.virtualenvs/gnn/lib/python3.6/site-packages/torch/utils/data/_utils/fetch.py\u001b[0m in \u001b[0;36mfetch\u001b[0;34m(self, possibly_batched_index)\u001b[0m\n\u001b[1;32m     45\u001b[0m         \u001b[0;32melse\u001b[0m\u001b[0;34m:\u001b[0m\u001b[0;34m\u001b[0m\u001b[0;34m\u001b[0m\u001b[0m\n\u001b[1;32m     46\u001b[0m             \u001b[0mdata\u001b[0m \u001b[0;34m=\u001b[0m \u001b[0mself\u001b[0m\u001b[0;34m.\u001b[0m\u001b[0mdataset\u001b[0m\u001b[0;34m[\u001b[0m\u001b[0mpossibly_batched_index\u001b[0m\u001b[0;34m]\u001b[0m\u001b[0;34m\u001b[0m\u001b[0;34m\u001b[0m\u001b[0m\n\u001b[0;32m---> 47\u001b[0;31m         \u001b[0;32mreturn\u001b[0m \u001b[0mself\u001b[0m\u001b[0;34m.\u001b[0m\u001b[0mcollate_fn\u001b[0m\u001b[0;34m(\u001b[0m\u001b[0mdata\u001b[0m\u001b[0;34m)\u001b[0m\u001b[0;34m\u001b[0m\u001b[0;34m\u001b[0m\u001b[0m\n\u001b[0m",
      "\u001b[0;32m<ipython-input-115-747a0eb6eb6b>\u001b[0m in \u001b[0;36mcollate\u001b[0;34m(samples)\u001b[0m\n\u001b[1;32m      2\u001b[0m \u001b[0;34m\u001b[0m\u001b[0m\n\u001b[1;32m      3\u001b[0m     \u001b[0;32mdef\u001b[0m \u001b[0mcollate\u001b[0m\u001b[0;34m(\u001b[0m\u001b[0msamples\u001b[0m\u001b[0;34m)\u001b[0m\u001b[0;34m:\u001b[0m\u001b[0;34m\u001b[0m\u001b[0;34m\u001b[0m\u001b[0m\n\u001b[0;32m----> 4\u001b[0;31m         \u001b[0mgraphs\u001b[0m\u001b[0;34m,\u001b[0m \u001b[0mlabels\u001b[0m \u001b[0;34m=\u001b[0m \u001b[0mmap\u001b[0m\u001b[0;34m(\u001b[0m\u001b[0mlist\u001b[0m\u001b[0;34m,\u001b[0m \u001b[0mzip\u001b[0m\u001b[0;34m(\u001b[0m\u001b[0;34m*\u001b[0m\u001b[0msamples\u001b[0m\u001b[0;34m)\u001b[0m\u001b[0;34m)\u001b[0m\u001b[0;34m\u001b[0m\u001b[0;34m\u001b[0m\u001b[0m\n\u001b[0m\u001b[1;32m      5\u001b[0m         \u001b[0mbatched_graph\u001b[0m \u001b[0;34m=\u001b[0m \u001b[0mdgl\u001b[0m\u001b[0;34m.\u001b[0m\u001b[0mbatch\u001b[0m\u001b[0;34m(\u001b[0m\u001b[0mgraphs\u001b[0m\u001b[0;34m)\u001b[0m\u001b[0;34m\u001b[0m\u001b[0;34m\u001b[0m\u001b[0m\n\u001b[1;32m      6\u001b[0m         \u001b[0;32mreturn\u001b[0m \u001b[0mbatched_graph\u001b[0m\u001b[0;34m,\u001b[0m \u001b[0mtorch\u001b[0m\u001b[0;34m.\u001b[0m\u001b[0mtensor\u001b[0m\u001b[0;34m(\u001b[0m\u001b[0mlabels\u001b[0m\u001b[0;34m)\u001b[0m\u001b[0;34m\u001b[0m\u001b[0;34m\u001b[0m\u001b[0m\n",
      "\u001b[0;31mValueError\u001b[0m: not enough values to unpack (expected 2, got 1)"
     ]
    }
   ],
   "source": [
    "conv_model = GraphConv_Model(1, 256, 1)\n",
    "loss_func = nn.MSELoss()\n",
    "optimizer = optim.Adam(conv_model.parameters(), lr=0.001)\n",
    "train_dataloader, test_dataloader = get_train_and_test_dataloader(\"train_graphs\", \"test_graphs\")\n",
    "\n",
    "print(\"Data loaded!\")\n",
    "print(\"Length of training dataset:\")\n",
    "print()\n",
    "print(\"Starting Training\")\n",
    "\n",
    "conv_model, losses = train(conv_model, loss_func, optimizer, 1, train_dataloader)\n",
    "\n",
    "plot_loss_graph(losses)"
   ]
  },
  {
   "cell_type": "code",
   "execution_count": null,
   "metadata": {},
   "outputs": [],
   "source": []
  }
 ],
 "metadata": {
  "kernelspec": {
   "display_name": "Python 3.6.9 64-bit ('gnn': venv)",
   "language": "python",
   "name": "python36964bitgnnvenvbff103ce1cec4f92bc8aa50298592845"
  },
  "language_info": {
   "codemirror_mode": {
    "name": "ipython",
    "version": 3
   },
   "file_extension": ".py",
   "mimetype": "text/x-python",
   "name": "python",
   "nbconvert_exporter": "python",
   "pygments_lexer": "ipython3",
   "version": "3.6.9"
  }
 },
 "nbformat": 4,
 "nbformat_minor": 4
}
